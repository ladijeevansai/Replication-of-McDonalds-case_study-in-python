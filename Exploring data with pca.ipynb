{
  "nbformat": 4,
  "nbformat_minor": 0,
  "metadata": {
    "colab": {
      "provenance": []
    },
    "kernelspec": {
      "name": "python3",
      "display_name": "Python 3"
    },
    "language_info": {
      "name": "python"
    }
  },
  "cells": [
    {
      "cell_type": "markdown",
      "source": [
        "#STEP:- 4 EXPLORING DATA\n",
        "NAME:LADI JEEVAN SAI\n",
        "\n",
        "Replication of McDonalds Case Study in Python \n"
      ],
      "metadata": {
        "id": "oKa9f8I3gnSX"
      }
    },
    {
      "cell_type": "code",
      "execution_count": 58,
      "metadata": {
        "colab": {
          "base_uri": "https://localhost:8080/"
        },
        "id": "ajCT60IwWBHO",
        "outputId": "0b03506c-18cb-41ce-f872-b2fd01c242df"
      },
      "outputs": [
        {
          "output_type": "stream",
          "name": "stdout",
          "text": [
            "  yummy convenient spicy fattening greasy fast cheap tasty expensive healthy  \\\n",
            "0    No        Yes    No       Yes     No  Yes   Yes    No       Yes      No   \n",
            "1   Yes        Yes    No       Yes    Yes  Yes   Yes   Yes       Yes      No   \n",
            "2    No        Yes   Yes       Yes    Yes  Yes    No   Yes       Yes     Yes   \n",
            "3   Yes        Yes    No       Yes    Yes  Yes   Yes   Yes        No      No   \n",
            "4    No        Yes    No       Yes    Yes  Yes   Yes    No        No     Yes   \n",
            "\n",
            "  disgusting Like  Age      VisitFrequency  Gender  \n",
            "0         No   -3   61  Every three months  Female  \n",
            "1         No   +2   51  Every three months  Female  \n",
            "2         No   +1   62  Every three months  Female  \n",
            "3        Yes   +4   69         Once a week  Female  \n",
            "4         No   +2   49        Once a month    Male  \n"
          ]
        }
      ],
      "source": [
        "import pandas as pd\n",
        "\n",
        "# Load McDonald's dataset from CSV file\n",
        "df = pd.read_csv('/content/drive/MyDrive/Colab Notebooks/data_mcd.csv')\n",
        "\n",
        "# Print the first 5 rows of the dataset\n",
        "print(df.head())\n"
      ]
    },
    {
      "cell_type": "code",
      "source": [
        "df.info()"
      ],
      "metadata": {
        "colab": {
          "base_uri": "https://localhost:8080/"
        },
        "id": "qCZU8Q0zWcaA",
        "outputId": "ef975e50-0007-4e38-c8e4-62bae6737335"
      },
      "execution_count": 59,
      "outputs": [
        {
          "output_type": "stream",
          "name": "stdout",
          "text": [
            "<class 'pandas.core.frame.DataFrame'>\n",
            "RangeIndex: 1453 entries, 0 to 1452\n",
            "Data columns (total 15 columns):\n",
            " #   Column          Non-Null Count  Dtype \n",
            "---  ------          --------------  ----- \n",
            " 0   yummy           1453 non-null   object\n",
            " 1   convenient      1453 non-null   object\n",
            " 2   spicy           1453 non-null   object\n",
            " 3   fattening       1453 non-null   object\n",
            " 4   greasy          1453 non-null   object\n",
            " 5   fast            1453 non-null   object\n",
            " 6   cheap           1453 non-null   object\n",
            " 7   tasty           1453 non-null   object\n",
            " 8   expensive       1453 non-null   object\n",
            " 9   healthy         1453 non-null   object\n",
            " 10  disgusting      1453 non-null   object\n",
            " 11  Like            1453 non-null   object\n",
            " 12  Age             1453 non-null   int64 \n",
            " 13  VisitFrequency  1453 non-null   object\n",
            " 14  Gender          1453 non-null   object\n",
            "dtypes: int64(1), object(14)\n",
            "memory usage: 170.4+ KB\n"
          ]
        }
      ]
    },
    {
      "cell_type": "code",
      "source": [
        "len(df)"
      ],
      "metadata": {
        "colab": {
          "base_uri": "https://localhost:8080/"
        },
        "id": "lfkQXIxvY3gP",
        "outputId": "21c4250e-764f-49a5-ee2b-a43cba62f457"
      },
      "execution_count": 60,
      "outputs": [
        {
          "output_type": "execute_result",
          "data": {
            "text/plain": [
              "1453"
            ]
          },
          "metadata": {},
          "execution_count": 60
        }
      ]
    },
    {
      "cell_type": "code",
      "source": [
        "print(df.shape)"
      ],
      "metadata": {
        "colab": {
          "base_uri": "https://localhost:8080/"
        },
        "id": "hkyIZYzpYwmV",
        "outputId": "4ff7bcd1-ea15-4273-cb39-5483cc48e88d"
      },
      "execution_count": 61,
      "outputs": [
        {
          "output_type": "stream",
          "name": "stdout",
          "text": [
            "(1453, 15)\n"
          ]
        }
      ]
    },
    {
      "cell_type": "code",
      "source": [
        "df.head(5)"
      ],
      "metadata": {
        "colab": {
          "base_uri": "https://localhost:8080/",
          "height": 322
        },
        "id": "w3ehA6P1ZLI6",
        "outputId": "f5541c50-8450-4fc6-e9eb-7dc20a2f0fa8"
      },
      "execution_count": 62,
      "outputs": [
        {
          "output_type": "execute_result",
          "data": {
            "text/plain": [
              "  yummy convenient spicy fattening greasy fast cheap tasty expensive healthy  \\\n",
              "0    No        Yes    No       Yes     No  Yes   Yes    No       Yes      No   \n",
              "1   Yes        Yes    No       Yes    Yes  Yes   Yes   Yes       Yes      No   \n",
              "2    No        Yes   Yes       Yes    Yes  Yes    No   Yes       Yes     Yes   \n",
              "3   Yes        Yes    No       Yes    Yes  Yes   Yes   Yes        No      No   \n",
              "4    No        Yes    No       Yes    Yes  Yes   Yes    No        No     Yes   \n",
              "\n",
              "  disgusting Like  Age      VisitFrequency  Gender  \n",
              "0         No   -3   61  Every three months  Female  \n",
              "1         No   +2   51  Every three months  Female  \n",
              "2         No   +1   62  Every three months  Female  \n",
              "3        Yes   +4   69         Once a week  Female  \n",
              "4         No   +2   49        Once a month    Male  "
            ],
            "text/html": [
              "\n",
              "  <div id=\"df-ceda169e-2836-4cd7-a88f-f4c9d3cb0d54\">\n",
              "    <div class=\"colab-df-container\">\n",
              "      <div>\n",
              "<style scoped>\n",
              "    .dataframe tbody tr th:only-of-type {\n",
              "        vertical-align: middle;\n",
              "    }\n",
              "\n",
              "    .dataframe tbody tr th {\n",
              "        vertical-align: top;\n",
              "    }\n",
              "\n",
              "    .dataframe thead th {\n",
              "        text-align: right;\n",
              "    }\n",
              "</style>\n",
              "<table border=\"1\" class=\"dataframe\">\n",
              "  <thead>\n",
              "    <tr style=\"text-align: right;\">\n",
              "      <th></th>\n",
              "      <th>yummy</th>\n",
              "      <th>convenient</th>\n",
              "      <th>spicy</th>\n",
              "      <th>fattening</th>\n",
              "      <th>greasy</th>\n",
              "      <th>fast</th>\n",
              "      <th>cheap</th>\n",
              "      <th>tasty</th>\n",
              "      <th>expensive</th>\n",
              "      <th>healthy</th>\n",
              "      <th>disgusting</th>\n",
              "      <th>Like</th>\n",
              "      <th>Age</th>\n",
              "      <th>VisitFrequency</th>\n",
              "      <th>Gender</th>\n",
              "    </tr>\n",
              "  </thead>\n",
              "  <tbody>\n",
              "    <tr>\n",
              "      <th>0</th>\n",
              "      <td>No</td>\n",
              "      <td>Yes</td>\n",
              "      <td>No</td>\n",
              "      <td>Yes</td>\n",
              "      <td>No</td>\n",
              "      <td>Yes</td>\n",
              "      <td>Yes</td>\n",
              "      <td>No</td>\n",
              "      <td>Yes</td>\n",
              "      <td>No</td>\n",
              "      <td>No</td>\n",
              "      <td>-3</td>\n",
              "      <td>61</td>\n",
              "      <td>Every three months</td>\n",
              "      <td>Female</td>\n",
              "    </tr>\n",
              "    <tr>\n",
              "      <th>1</th>\n",
              "      <td>Yes</td>\n",
              "      <td>Yes</td>\n",
              "      <td>No</td>\n",
              "      <td>Yes</td>\n",
              "      <td>Yes</td>\n",
              "      <td>Yes</td>\n",
              "      <td>Yes</td>\n",
              "      <td>Yes</td>\n",
              "      <td>Yes</td>\n",
              "      <td>No</td>\n",
              "      <td>No</td>\n",
              "      <td>+2</td>\n",
              "      <td>51</td>\n",
              "      <td>Every three months</td>\n",
              "      <td>Female</td>\n",
              "    </tr>\n",
              "    <tr>\n",
              "      <th>2</th>\n",
              "      <td>No</td>\n",
              "      <td>Yes</td>\n",
              "      <td>Yes</td>\n",
              "      <td>Yes</td>\n",
              "      <td>Yes</td>\n",
              "      <td>Yes</td>\n",
              "      <td>No</td>\n",
              "      <td>Yes</td>\n",
              "      <td>Yes</td>\n",
              "      <td>Yes</td>\n",
              "      <td>No</td>\n",
              "      <td>+1</td>\n",
              "      <td>62</td>\n",
              "      <td>Every three months</td>\n",
              "      <td>Female</td>\n",
              "    </tr>\n",
              "    <tr>\n",
              "      <th>3</th>\n",
              "      <td>Yes</td>\n",
              "      <td>Yes</td>\n",
              "      <td>No</td>\n",
              "      <td>Yes</td>\n",
              "      <td>Yes</td>\n",
              "      <td>Yes</td>\n",
              "      <td>Yes</td>\n",
              "      <td>Yes</td>\n",
              "      <td>No</td>\n",
              "      <td>No</td>\n",
              "      <td>Yes</td>\n",
              "      <td>+4</td>\n",
              "      <td>69</td>\n",
              "      <td>Once a week</td>\n",
              "      <td>Female</td>\n",
              "    </tr>\n",
              "    <tr>\n",
              "      <th>4</th>\n",
              "      <td>No</td>\n",
              "      <td>Yes</td>\n",
              "      <td>No</td>\n",
              "      <td>Yes</td>\n",
              "      <td>Yes</td>\n",
              "      <td>Yes</td>\n",
              "      <td>Yes</td>\n",
              "      <td>No</td>\n",
              "      <td>No</td>\n",
              "      <td>Yes</td>\n",
              "      <td>No</td>\n",
              "      <td>+2</td>\n",
              "      <td>49</td>\n",
              "      <td>Once a month</td>\n",
              "      <td>Male</td>\n",
              "    </tr>\n",
              "  </tbody>\n",
              "</table>\n",
              "</div>\n",
              "      <button class=\"colab-df-convert\" onclick=\"convertToInteractive('df-ceda169e-2836-4cd7-a88f-f4c9d3cb0d54')\"\n",
              "              title=\"Convert this dataframe to an interactive table.\"\n",
              "              style=\"display:none;\">\n",
              "        \n",
              "  <svg xmlns=\"http://www.w3.org/2000/svg\" height=\"24px\"viewBox=\"0 0 24 24\"\n",
              "       width=\"24px\">\n",
              "    <path d=\"M0 0h24v24H0V0z\" fill=\"none\"/>\n",
              "    <path d=\"M18.56 5.44l.94 2.06.94-2.06 2.06-.94-2.06-.94-.94-2.06-.94 2.06-2.06.94zm-11 1L8.5 8.5l.94-2.06 2.06-.94-2.06-.94L8.5 2.5l-.94 2.06-2.06.94zm10 10l.94 2.06.94-2.06 2.06-.94-2.06-.94-.94-2.06-.94 2.06-2.06.94z\"/><path d=\"M17.41 7.96l-1.37-1.37c-.4-.4-.92-.59-1.43-.59-.52 0-1.04.2-1.43.59L10.3 9.45l-7.72 7.72c-.78.78-.78 2.05 0 2.83L4 21.41c.39.39.9.59 1.41.59.51 0 1.02-.2 1.41-.59l7.78-7.78 2.81-2.81c.8-.78.8-2.07 0-2.86zM5.41 20L4 18.59l7.72-7.72 1.47 1.35L5.41 20z\"/>\n",
              "  </svg>\n",
              "      </button>\n",
              "      \n",
              "  <style>\n",
              "    .colab-df-container {\n",
              "      display:flex;\n",
              "      flex-wrap:wrap;\n",
              "      gap: 12px;\n",
              "    }\n",
              "\n",
              "    .colab-df-convert {\n",
              "      background-color: #E8F0FE;\n",
              "      border: none;\n",
              "      border-radius: 50%;\n",
              "      cursor: pointer;\n",
              "      display: none;\n",
              "      fill: #1967D2;\n",
              "      height: 32px;\n",
              "      padding: 0 0 0 0;\n",
              "      width: 32px;\n",
              "    }\n",
              "\n",
              "    .colab-df-convert:hover {\n",
              "      background-color: #E2EBFA;\n",
              "      box-shadow: 0px 1px 2px rgba(60, 64, 67, 0.3), 0px 1px 3px 1px rgba(60, 64, 67, 0.15);\n",
              "      fill: #174EA6;\n",
              "    }\n",
              "\n",
              "    [theme=dark] .colab-df-convert {\n",
              "      background-color: #3B4455;\n",
              "      fill: #D2E3FC;\n",
              "    }\n",
              "\n",
              "    [theme=dark] .colab-df-convert:hover {\n",
              "      background-color: #434B5C;\n",
              "      box-shadow: 0px 1px 3px 1px rgba(0, 0, 0, 0.15);\n",
              "      filter: drop-shadow(0px 1px 2px rgba(0, 0, 0, 0.3));\n",
              "      fill: #FFFFFF;\n",
              "    }\n",
              "  </style>\n",
              "\n",
              "      <script>\n",
              "        const buttonEl =\n",
              "          document.querySelector('#df-ceda169e-2836-4cd7-a88f-f4c9d3cb0d54 button.colab-df-convert');\n",
              "        buttonEl.style.display =\n",
              "          google.colab.kernel.accessAllowed ? 'block' : 'none';\n",
              "\n",
              "        async function convertToInteractive(key) {\n",
              "          const element = document.querySelector('#df-ceda169e-2836-4cd7-a88f-f4c9d3cb0d54');\n",
              "          const dataTable =\n",
              "            await google.colab.kernel.invokeFunction('convertToInteractive',\n",
              "                                                     [key], {});\n",
              "          if (!dataTable) return;\n",
              "\n",
              "          const docLinkHtml = 'Like what you see? Visit the ' +\n",
              "            '<a target=\"_blank\" href=https://colab.research.google.com/notebooks/data_table.ipynb>data table notebook</a>'\n",
              "            + ' to learn more about interactive tables.';\n",
              "          element.innerHTML = '';\n",
              "          dataTable['output_type'] = 'display_data';\n",
              "          await google.colab.output.renderOutput(dataTable, element);\n",
              "          const docLink = document.createElement('div');\n",
              "          docLink.innerHTML = docLinkHtml;\n",
              "          element.appendChild(docLink);\n",
              "        }\n",
              "      </script>\n",
              "    </div>\n",
              "  </div>\n",
              "  "
            ]
          },
          "metadata": {},
          "execution_count": 62
        }
      ]
    },
    {
      "cell_type": "code",
      "source": [
        "import numpy as np\n",
        "# Selecting the columns of interest and converting it to a NumPy matrix\n",
        "MD_x = df.iloc[:, 0:11].values\n",
        "\n",
        "# Converting \"Yes\" to 1 and \"No\" to 0\n",
        "MD_x[MD_x == \"Yes\"] = 1\n",
        "MD_x[MD_x == \"No\"] = 0\n",
        "MD_x = MD_x.astype(float)\n",
        "\n",
        "# Computing the column means and rounding it to 2 decimal places\n",
        "col_means = np.round(np.mean(MD_x, axis=0), 2)\n",
        "\n",
        "col_means = np.round(np.mean(MD_x, axis=0), 2)\n",
        "\n",
        "print(col_means)\n",
        "for i in range(11):\n",
        "  print(\"%s :- %.2f\" % (df.columns[i], col_means[i]))\n",
        "\n"
      ],
      "metadata": {
        "colab": {
          "base_uri": "https://localhost:8080/"
        },
        "id": "x2qg_AaLZjsC",
        "outputId": "b7f4c68d-2dcf-4889-f3fa-9528854a6fd7"
      },
      "execution_count": 63,
      "outputs": [
        {
          "output_type": "stream",
          "name": "stdout",
          "text": [
            "[0.6 0.9 0.1 0.9 0.5 0.9 0.6 0.6 0.4 0.2 0.2]\n",
            "yummy :- 0.55\n",
            "convenient :- 0.91\n",
            "spicy :- 0.09\n",
            "fattening :- 0.87\n",
            "greasy :- 0.53\n",
            "fast :- 0.90\n",
            "cheap :- 0.60\n",
            "tasty :- 0.64\n",
            "expensive :- 0.36\n",
            "healthy :- 0.20\n",
            "disgusting :- 0.24\n"
          ]
        }
      ]
    },
    {
      "cell_type": "code",
      "source": [
        "import numpy as np\n",
        "from sklearn.decomposition import PCA\n",
        "MD_pca = PCA().fit(MD_x)\n",
        "print('Explained variance:', MD_pca.explained_variance_ratio_)\n",
        "print('\\nCumulative explained variance:', np.cumsum(MD_pca.explained_variance_ratio_))\n",
        "print('\\nLoadings:\\n', MD_pca.components_.T)\n",
        "# There's no summary method in scikit-learn, so just printing few summaries"
      ],
      "metadata": {
        "colab": {
          "base_uri": "https://localhost:8080/"
        },
        "id": "OQfJRpsPZxPy",
        "outputId": "d7327632-8178-4c4d-c1c3-908f40c4587c"
      },
      "execution_count": 64,
      "outputs": [
        {
          "output_type": "stream",
          "name": "stdout",
          "text": [
            "Explained variance: [0.3 0.2 0.1 0.1 0.1 0.1 0.  0.  0.  0.  0. ]\n",
            "\n",
            "Cumulative explained variance: [0.3 0.5 0.6 0.7 0.8 0.8 0.9 0.9 0.9 1.  1. ]\n",
            "\n",
            "Loadings:\n",
            " [[-0.5  0.4 -0.3  0.1 -0.3  0.2 -0.3  0.   0.6 -0.1  0. ]\n",
            " [-0.2  0.  -0.1 -0.1  0.3 -0.3 -0.1 -0.1 -0.  -0.7 -0.5]\n",
            " [-0.   0.  -0.   0.2  0.1 -0.4  0.7  0.4  0.4 -0.1  0.1]\n",
            " [ 0.1 -0.  -0.3 -0.4 -0.1 -0.4 -0.4  0.6 -0.2 -0.   0.3]\n",
            " [ 0.3 -0.1 -0.8  0.3  0.4  0.2  0.  -0.1 -0.   0.   0. ]\n",
            " [-0.1 -0.1 -0.1 -0.1  0.1 -0.6 -0.1 -0.6  0.2  0.2  0.3]\n",
            " [-0.3 -0.6 -0.1  0.1 -0.1 -0.1 -0.   0.1  0.1  0.4 -0.5]\n",
            " [-0.5  0.3 -0.3 -0.  -0.2 -0.1  0.4 -0.1 -0.6  0.1  0. ]\n",
            " [ 0.3  0.6  0.   0.1 -0.  -0.3 -0.1  0.   0.1  0.5 -0.5]\n",
            " [-0.2  0.1  0.2  0.8  0.3 -0.2 -0.3  0.2 -0.2 -0.   0.2]\n",
            " [ 0.4 -0.1 -0.1  0.4 -0.7 -0.2 -0.  -0.2 -0.1 -0.3 -0. ]]\n"
          ]
        }
      ]
    },
    {
      "cell_type": "code",
      "source": [
        "print(\"Standard deviations (1, .., p={0:d}): {1}\".format(MD_pca.n_components_, MD_pca.explained_variance_.round(1)))\n",
        "print(\"Rotation (n x k) = ({0:d} x {1:d}):\".format(MD_pca.n_features_, MD_pca.n_components_))\n",
        "print(MD_pca.components_.round(2))"
      ],
      "metadata": {
        "colab": {
          "base_uri": "https://localhost:8080/"
        },
        "id": "Wc2GNLl7d8T6",
        "outputId": "5bd3aeed-5178-48bc-a6d9-d6e6d5a89bb0"
      },
      "execution_count": 65,
      "outputs": [
        {
          "output_type": "stream",
          "name": "stdout",
          "text": [
            "Standard deviations (1, .., p=11): [0.6 0.4 0.3 0.2 0.1 0.1 0.1 0.1 0.1 0.1 0.1]\n",
            "Rotation (n x k) = (11 x 11):\n",
            "[[-0.5 -0.2 -0.   0.1  0.3 -0.1 -0.3 -0.5  0.3 -0.2  0.4]\n",
            " [ 0.4  0.   0.  -0.  -0.1 -0.1 -0.6  0.3  0.6  0.1 -0.1]\n",
            " [-0.3 -0.1 -0.  -0.3 -0.8 -0.1 -0.1 -0.3  0.   0.2 -0.1]\n",
            " [ 0.1 -0.1  0.2 -0.3  0.2 -0.1  0.1 -0.   0.1  0.8  0.4]\n",
            " [-0.3  0.3  0.1 -0.1  0.4  0.1 -0.1 -0.2 -0.   0.3 -0.7]\n",
            " [ 0.2 -0.3 -0.4 -0.4  0.2 -0.6 -0.1 -0.1 -0.3 -0.2 -0.2]\n",
            " [-0.3 -0.1  0.7 -0.4  0.  -0.1 -0.   0.4 -0.1 -0.3 -0. ]\n",
            " [ 0.  -0.1  0.4  0.6 -0.1 -0.6  0.1 -0.1  0.   0.2 -0.2]\n",
            " [ 0.6 -0.   0.4 -0.2 -0.   0.2  0.1 -0.6  0.1 -0.2 -0.1]\n",
            " [-0.1 -0.7 -0.1 -0.   0.   0.2  0.4  0.1  0.5 -0.  -0.3]\n",
            " [ 0.1 -0.5  0.1  0.2  0.   0.3 -0.5  0.  -0.5  0.2 -0. ]]\n"
          ]
        },
        {
          "output_type": "stream",
          "name": "stderr",
          "text": [
            "/usr/local/lib/python3.8/dist-packages/sklearn/utils/deprecation.py:101: FutureWarning: Attribute `n_features_` was deprecated in version 1.2 and will be removed in 1.4. Use `n_features_in_` instead.\n",
            "  warnings.warn(msg, category=FutureWarning)\n"
          ]
        }
      ]
    },
    {
      "cell_type": "code",
      "source": [
        "print(pd.DataFrame({\n",
        "    \"Standard deviations\": MD_pca.explained_variance_,\n",
        "    \"Proportion of Variance\": MD_pca.explained_variance_ratio_,\n",
        "    \"Cumulative Proportion\": np.cumsum(MD_pca.explained_variance_ratio_)\n",
        "}))\n",
        "\n",
        "print(pd.DataFrame(MD_pca.components_, columns=df.columns[:11]))"
      ],
      "metadata": {
        "colab": {
          "base_uri": "https://localhost:8080/"
        },
        "id": "QSxS2i0me-_c",
        "outputId": "1066b4b7-91e4-4adf-9b23-93e28d338e45"
      },
      "execution_count": 66,
      "outputs": [
        {
          "output_type": "stream",
          "name": "stdout",
          "text": [
            "    Standard deviations  Proportion of Variance  Cumulative Proportion\n",
            "0              0.573124                0.299447               0.299447\n",
            "1              0.369002                0.192797               0.492244\n",
            "2              0.254641                0.133045               0.625290\n",
            "3              0.159040                0.083096               0.708386\n",
            "4              0.113842                0.059481               0.767866\n",
            "5              0.096270                0.050300               0.818166\n",
            "6              0.083925                0.043849               0.862015\n",
            "7              0.075692                0.039548               0.901563\n",
            "8              0.070358                0.036761               0.938323\n",
            "9              0.061922                0.032353               0.970677\n",
            "10             0.056123                0.029323               1.000000\n",
            "       yummy  convenient     spicy  fattening    greasy      fast     cheap  \\\n",
            "0  -0.476933   -0.155332 -0.006356   0.116232  0.304443 -0.108493 -0.337186   \n",
            "1   0.363790    0.016414  0.018809  -0.034094 -0.063839 -0.086972 -0.610633   \n",
            "2  -0.304444   -0.062515 -0.037019  -0.322359 -0.802373 -0.064642 -0.149310   \n",
            "3   0.055162   -0.142425  0.197619  -0.354139  0.253960 -0.097363  0.118958   \n",
            "4  -0.307535    0.277608  0.070620  -0.073405  0.361399  0.107930 -0.128973   \n",
            "5   0.170738   -0.347830 -0.355087  -0.406515  0.209347 -0.594632 -0.103241   \n",
            "6  -0.280519   -0.059738  0.707637  -0.385943  0.036170 -0.086846 -0.040449   \n",
            "7   0.013041   -0.113079  0.375934   0.589622 -0.138241 -0.627799  0.140060   \n",
            "8   0.572403   -0.018465  0.400280  -0.160512 -0.002847  0.166197  0.076069   \n",
            "9  -0.110284   -0.665818 -0.075634  -0.005338  0.008707  0.239532  0.428087   \n",
            "10  0.045439   -0.541616  0.141730   0.250910  0.001642  0.339265 -0.489283   \n",
            "\n",
            "       tasty  expensive   healthy  disgusting  \n",
            "0  -0.471514   0.329042 -0.213711    0.374753  \n",
            "1   0.307318   0.601286  0.076593   -0.139656  \n",
            "2  -0.287265   0.024397  0.192051   -0.088571  \n",
            "3  -0.002547   0.067816  0.763488    0.369539  \n",
            "4  -0.210899  -0.003125  0.287846   -0.729209  \n",
            "5  -0.076914  -0.261342 -0.178226   -0.210878  \n",
            "6   0.360453  -0.068385 -0.349616   -0.026792  \n",
            "7  -0.072792   0.029539  0.176303   -0.167181  \n",
            "8  -0.639086   0.066996 -0.185572   -0.072483  \n",
            "9   0.079184   0.454399 -0.038117   -0.289592  \n",
            "10  0.019552  -0.490069  0.157608   -0.040662  \n"
          ]
        }
      ]
    },
    {
      "cell_type": "code",
      "source": [
        "\n",
        "import matplotlib.pyplot as plt\n",
        "# plot the projection on the first two PCs\n",
        "plt.scatter(MD_pca.transform(MD_x)[:, 0], MD_pca.transform(MD_x)[:, 1], c='grey')\n",
        "\n",
        "# plot the axes for the first two PCs\n",
        "plt.plot([-1, 1], [0, 0], color='k', linestyle='--')\n",
        "plt.plot([0, 0], [-1, 1], color='k', linestyle='--')\n",
        "\n",
        "# set x and y axis limits\n",
        "plt.xlim(-1, 1)\n",
        "plt.ylim(-1, 1)\n",
        "\n",
        "# set x and y axis labels\n",
        "plt.xlabel('PC1')\n",
        "plt.ylabel('PC2')\n",
        "\n",
        "# show the plot\n",
        "plt.show()\n",
        "\n",
        "\n"
      ],
      "metadata": {
        "colab": {
          "base_uri": "https://localhost:8080/",
          "height": 283
        },
        "id": "BW4XfGt5fIfQ",
        "outputId": "8684db44-fe5d-4878-d548-6c899e571f1a"
      },
      "execution_count": 67,
      "outputs": [
        {
          "output_type": "display_data",
          "data": {
            "text/plain": [
              "<Figure size 432x288 with 1 Axes>"
            ],
            "image/png": "[encoded data removed]"
          },
          "metadata": {
            "needs_background": "light"
          }
        }
      ]
    }
  ]
}